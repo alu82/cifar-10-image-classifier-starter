{
 "cells": [
  {
   "cell_type": "markdown",
   "metadata": {},
   "source": [
    "# Introduction\n",
    "\n",
    "In this project, you will build a neural network of your own design to evaluate the CIFAR-10 dataset.\n",
    "Our target accuracy is 70%, but any accuracy over 50% is a great start.\n",
    "Some of the benchmark results on CIFAR-10 include:\n",
    "\n",
    "78.9% Accuracy | [Deep Belief Networks; Krizhevsky, 2010](https://www.cs.toronto.edu/~kriz/conv-cifar10-aug2010.pdf)\n",
    "\n",
    "90.6% Accuracy | [Maxout Networks; Goodfellow et al., 2013](https://arxiv.org/pdf/1302.4389.pdf)\n",
    "\n",
    "96.0% Accuracy | [Wide Residual Networks; Zagoruyko et al., 2016](https://arxiv.org/pdf/1605.07146.pdf)\n",
    "\n",
    "99.0% Accuracy | [GPipe; Huang et al., 2018](https://arxiv.org/pdf/1811.06965.pdf)\n",
    "\n",
    "98.5% Accuracy | [Rethinking Recurrent Neural Networks and other Improvements for ImageClassification; Nguyen et al., 2020](https://arxiv.org/pdf/2007.15161.pdf)\n",
    "\n",
    "Research with this dataset is ongoing. Notably, many of these networks are quite large and quite expensive to train. \n",
    "\n",
    "## Imports"
   ]
  },
  {
   "cell_type": "code",
   "execution_count": 1,
   "metadata": {},
   "outputs": [],
   "source": [
    "## This cell contains the essential imports you will need – DO NOT CHANGE THE CONTENTS! ##\n",
    "import torch\n",
    "import torch.nn as nn\n",
    "import torch.nn.functional as F\n",
    "import torch.optim as optim\n",
    "import torchvision\n",
    "import torchvision.transforms as transforms\n",
    "import matplotlib.pyplot as plt\n",
    "import numpy as np"
   ]
  },
  {
   "cell_type": "markdown",
   "metadata": {},
   "source": [
    "## Load the Dataset\n",
    "\n",
    "Specify your transforms as a list first.\n",
    "The transforms module is already loaded as `transforms`.\n",
    "\n",
    "CIFAR-10 is fortunately included in the torchvision module.\n",
    "Then, you can create your dataset using the `CIFAR10` object from `torchvision.datasets` ([the documentation is available here](https://pytorch.org/docs/stable/torchvision/datasets.html#cifar)).\n",
    "Make sure to specify `download=True`! \n",
    "\n",
    "Once your dataset is created, you'll also need to define a `DataLoader` from the `torch.utils.data` module for both the train and the test set."
   ]
  },
  {
   "cell_type": "code",
   "execution_count": 107,
   "metadata": {},
   "outputs": [
    {
     "name": "stdout",
     "output_type": "stream",
     "text": [
      "Files already downloaded and verified\n",
      "Files already downloaded and verified\n"
     ]
    }
   ],
   "source": [
    "# Define transforms\n",
    "# Do some random transformations while training for a better generalization\n",
    "train_transforms = transforms.Compose([transforms.RandomRotation(30),\n",
    "                                       transforms.RandomHorizontalFlip(),\n",
    "                                       transforms.ToTensor(),\n",
    "                                       transforms.Normalize((0.5, 0.5, 0.5), (0.5, 0.5, 0.5))]) \n",
    "\n",
    "test_transforms = transforms.Compose([transforms.ToTensor(),\n",
    "                                      transforms.Normalize((0.5, 0.5, 0.5), (0.5, 0.5, 0.5))])\n",
    "\n",
    "train_data = torchvision.datasets.CIFAR10('~/.pytorch/CIFAR10_data/', download=True, train=True, transform=train_transforms)\n",
    "test_data = torchvision.datasets.CIFAR10('~/.pytorch/CIFAR10_data/', download=True, train=False, transform=test_transforms)\n",
    "\n",
    "indices = list(range(len(trainset)))\n",
    "split = int(np.floor(0.15 * len(trainset)))\n",
    "train_idx, valid_idx = indices[split:], indices[:split]\n",
    "\n",
    "train_sampler = torch.utils.data.sampler.SubsetRandomSampler(train_idx)\n",
    "valid_sampler = torch.utils.data.sampler.SubsetRandomSampler(valid_idx)\n",
    "\n",
    "# Create dataloader\n",
    "trainloader = torch.utils.data.DataLoader(train_data, batch_size=16, sampler=train_sampler)\n",
    "validloader = torch.utils.data.DataLoader(train_data, batch_size=16, sampler=valid_sampler)\n",
    "testloader = torch.utils.data.DataLoader(test_data, batch_size=16, shuffle=True)\n",
    "\n",
    "# The 10 classes in the dataset\n",
    "classes = ('plane', 'car', 'bird', 'cat', 'deer', 'dog', 'frog', 'horse', 'ship', 'truck')"
   ]
  },
  {
   "cell_type": "markdown",
   "metadata": {},
   "source": [
    "## Explore the Dataset\n",
    "Using matplotlib, numpy, and torch, explore the dimensions of your data.\n",
    "\n",
    "You can view images using the `show5` function defined below – it takes a data loader as an argument.\n",
    "Remember that normalized images will look really weird to you! You may want to try changing your transforms to view images.\n",
    "Typically using no transforms other than `toTensor()` works well for viewing – but not as well for training your network.\n",
    "If `show5` doesn't work, go back and check your code for creating your data loaders and your training/test sets."
   ]
  },
  {
   "cell_type": "code",
   "execution_count": 89,
   "metadata": {},
   "outputs": [],
   "source": [
    "def show5(img_loader):\n",
    "    dataiter = iter(img_loader)\n",
    "    \n",
    "    batch = next(dataiter)\n",
    "    labels = batch[1][0:5]\n",
    "    images = batch[0][0:5]\n",
    "    for i in range(5):\n",
    "        print(classes[labels[i]])\n",
    "    \n",
    "        image = images[i].numpy()\n",
    "        plt.imshow(image.T)\n",
    "        plt.show()"
   ]
  },
  {
   "cell_type": "code",
   "execution_count": 90,
   "metadata": {},
   "outputs": [
    {
     "name": "stderr",
     "output_type": "stream",
     "text": [
      "Clipping input data to the valid range for imshow with RGB data ([0..1] for floats or [0..255] for integers).\n"
     ]
    },
    {
     "name": "stdout",
     "output_type": "stream",
     "text": [
      "truck\n"
     ]
    },
    {
     "data": {
      "image/png": "[encoded data removed]",
      "text/plain": [
       "<Figure size 432x288 with 1 Axes>"
      ]
     },
     "metadata": {
      "needs_background": "light"
     },
     "output_type": "display_data"
    },
    {
     "name": "stderr",
     "output_type": "stream",
     "text": [
      "Clipping input data to the valid range for imshow with RGB data ([0..1] for floats or [0..255] for integers).\n"
     ]
    },
    {
     "name": "stdout",
     "output_type": "stream",
     "text": [
      "car\n"
     ]
    },
    {
     "data": {
      "image/png": "[encoded data removed]",
      "text/plain": [
       "<Figure size 432x288 with 1 Axes>"
      ]
     },
     "metadata": {
      "needs_background": "light"
     },
     "output_type": "display_data"
    },
    {
     "name": "stderr",
     "output_type": "stream",
     "text": [
      "Clipping input data to the valid range for imshow with RGB data ([0..1] for floats or [0..255] for integers).\n"
     ]
    },
    {
     "name": "stdout",
     "output_type": "stream",
     "text": [
      "deer\n"
     ]
    },
    {
     "data": {
      "image/png": "[encoded data removed]",
      "text/plain": [
       "<Figure size 432x288 with 1 Axes>"
      ]
     },
     "metadata": {
      "needs_background": "light"
     },
     "output_type": "display_data"
    },
    {
     "name": "stderr",
     "output_type": "stream",
     "text": [
      "Clipping input data to the valid range for imshow with RGB data ([0..1] for floats or [0..255] for integers).\n"
     ]
    },
    {
     "name": "stdout",
     "output_type": "stream",
     "text": [
      "dog\n"
     ]
    },
    {
     "data": {
      "image/png": "[encoded data removed]",
      "text/plain": [
       "<Figure size 432x288 with 1 Axes>"
      ]
     },
     "metadata": {
      "needs_background": "light"
     },
     "output_type": "display_data"
    },
    {
     "name": "stderr",
     "output_type": "stream",
     "text": [
      "Clipping input data to the valid range for imshow with RGB data ([0..1] for floats or [0..255] for integers).\n"
     ]
    },
    {
     "name": "stdout",
     "output_type": "stream",
     "text": [
      "plane\n"
     ]
    },
    {
     "data": {
      "image/png": "[encoded data removed]",
      "text/plain": [
       "<Figure size 432x288 with 1 Axes>"
      ]
     },
     "metadata": {
      "needs_background": "light"
     },
     "output_type": "display_data"
    },
    {
     "name": "stderr",
     "output_type": "stream",
     "text": [
      "Clipping input data to the valid range for imshow with RGB data ([0..1] for floats or [0..255] for integers).\n"
     ]
    },
    {
     "name": "stdout",
     "output_type": "stream",
     "text": [
      "deer\n"
     ]
    },
    {
     "data": {
      "image/png": "[encoded data removed]",
      "text/plain": [
       "<Figure size 432x288 with 1 Axes>"
      ]
     },
     "metadata": {
      "needs_background": "light"
     },
     "output_type": "display_data"
    },
    {
     "name": "stderr",
     "output_type": "stream",
     "text": [
      "Clipping input data to the valid range for imshow with RGB data ([0..1] for floats or [0..255] for integers).\n"
     ]
    },
    {
     "name": "stdout",
     "output_type": "stream",
     "text": [
      "truck\n"
     ]
    },
    {
     "data": {
      "image/png": "[encoded data removed]",
      "text/plain": [
       "<Figure size 432x288 with 1 Axes>"
      ]
     },
     "metadata": {
      "needs_background": "light"
     },
     "output_type": "display_data"
    },
    {
     "name": "stderr",
     "output_type": "stream",
     "text": [
      "Clipping input data to the valid range for imshow with RGB data ([0..1] for floats or [0..255] for integers).\n"
     ]
    },
    {
     "name": "stdout",
     "output_type": "stream",
     "text": [
      "frog\n"
     ]
    },
    {
     "data": {
      "image/png": "[encoded data removed]",
      "text/plain": [
       "<Figure size 432x288 with 1 Axes>"
      ]
     },
     "metadata": {
      "needs_background": "light"
     },
     "output_type": "display_data"
    },
    {
     "name": "stderr",
     "output_type": "stream",
     "text": [
      "Clipping input data to the valid range for imshow with RGB data ([0..1] for floats or [0..255] for integers).\n"
     ]
    },
    {
     "name": "stdout",
     "output_type": "stream",
     "text": [
      "truck\n"
     ]
    },
    {
     "data": {
      "image/png": "[encoded data removed]",
      "text/plain": [
       "<Figure size 432x288 with 1 Axes>"
      ]
     },
     "metadata": {
      "needs_background": "light"
     },
     "output_type": "display_data"
    },
    {
     "name": "stderr",
     "output_type": "stream",
     "text": [
      "Clipping input data to the valid range for imshow with RGB data ([0..1] for floats or [0..255] for integers).\n"
     ]
    },
    {
     "name": "stdout",
     "output_type": "stream",
     "text": [
      "deer\n"
     ]
    },
    {
     "data": {
      "image/png": "[encoded data removed]",
      "text/plain": [
       "<Figure size 432x288 with 1 Axes>"
      ]
     },
     "metadata": {
      "needs_background": "light"
     },
     "output_type": "display_data"
    }
   ],
   "source": [
    "# Explore data\n",
    "show5(trainloader)\n",
    "show5(testloader)"
   ]
  },
  {
   "cell_type": "markdown",
   "metadata": {},
   "source": [
    "## Build your Neural Network\n",
    "Using the layers in `torch.nn` (which has been imported as `nn`) and the `torch.nn.functional` module (imported as `F`), construct a neural network based on the parameters of the dataset. \n",
    "Feel free to construct a model of any architecture – feedforward, convolutional, or even something more advanced!"
   ]
  },
  {
   "cell_type": "code",
   "execution_count": 91,
   "metadata": {},
   "outputs": [],
   "source": [
    "# inspired by\n",
    "# https://pytorch.org/tutorials/beginner/blitz/cifar10_tutorial.html\n",
    "# https://stackoverflow.com/questions/66849867/understanding-input-and-output-size-for-conv2d\n",
    "# https://towardsdatascience.com/classify-your-images-using-convolutional-neural-network-4b54989d93dd\n",
    "class Net(nn.Module):\n",
    "    def __init__(self):\n",
    "        super(Net, self).__init__()\n",
    "        self.conv1 = nn.Conv2d(3, 16, 3, padding=1) # convolutional layer (sees 32x32x3 image tensor)\n",
    "        self.conv2 = nn.Conv2d(16, 32, 3, padding=1) # convolutional layer (sees 16x16x16 tensor)\n",
    "        self.conv3 = nn.Conv2d(32, 64, 3, padding=1) # convolutional layer (sees 8x8x32 tensor)\n",
    "        self.pool = nn.MaxPool2d(2, 2) # max pooling layer, reduces images size by a half after applying it\n",
    "        self.fc1 = nn.Linear(64 * 4 * 4, 512) # linear layer 64 output channels * image size 4x4 after applying 3 times MaxPool2d\n",
    "        self.fc2 = nn.Linear(512, 128)\n",
    "        self.fc3 = nn.Linear(128, 10)\n",
    "        self.dropout = nn.Dropout(0.2)\n",
    "\n",
    "    def forward(self, x):\n",
    "        x = self.pool(F.relu(self.conv1(x)))\n",
    "        x = self.pool(F.relu(self.conv2(x)))\n",
    "        x = self.pool(F.relu(self.conv3(x)))\n",
    "        x = x.view(-1, 64 * 4 * 4) # flatten image input\n",
    "        x = self.dropout(F.relu(self.fc1(x)))\n",
    "        x = self.dropout(F.relu(self.fc2(x)))\n",
    "        x = F.log_softmax(self.fc3(x), dim=1)\n",
    "        return x"
   ]
  },
  {
   "cell_type": "markdown",
   "metadata": {},
   "source": [
    "Specify a loss function and an optimizer, and instantiate the model.\n",
    "\n",
    "If you use a less common loss function, please note why you chose that loss function in a comment."
   ]
  },
  {
   "cell_type": "code",
   "execution_count": 122,
   "metadata": {},
   "outputs": [],
   "source": [
    "model = Net()\n",
    "criterion = nn.NLLLoss()\n",
    "optimizer = optim.Adam(model.parameters(), lr=0.0015)"
   ]
  },
  {
   "cell_type": "markdown",
   "metadata": {},
   "source": [
    "## Running your Neural Network\n",
    "Use whatever method you like to train your neural network, and ensure you record the average loss at each epoch. \n",
    "Don't forget to use `torch.device()` and the `.to()` method for both your model and your data if you are using GPU!\n",
    "\n",
    "If you want to print your loss during each epoch, you can use the `enumerate` function and print the loss after a set number of batches. 250 batches works well for most people!"
   ]
  },
  {
   "cell_type": "code",
   "execution_count": 123,
   "metadata": {},
   "outputs": [
    {
     "name": "stdout",
     "output_type": "stream",
     "text": [
      "training on device cuda\n",
      "Epoch 001/100.. Train loss: 1.616.. Valid loss: 1.483.. Valid accuracy: 0.468\n",
      "found a better model, saving...\n",
      "Epoch 002/100.. Train loss: 1.381.. Valid loss: 1.290.. Valid accuracy: 0.545\n",
      "found a better model, saving...\n",
      "Epoch 003/100.. Train loss: 1.275.. Valid loss: 1.161.. Valid accuracy: 0.583\n",
      "found a better model, saving...\n",
      "Epoch 004/100.. Train loss: 1.209.. Valid loss: 1.254.. Valid accuracy: 0.558\n",
      "Epoch 005/100.. Train loss: 1.176.. Valid loss: 1.105.. Valid accuracy: 0.609\n",
      "found a better model, saving...\n",
      "Epoch 006/100.. Train loss: 1.146.. Valid loss: 1.109.. Valid accuracy: 0.607\n",
      "Epoch 007/100.. Train loss: 1.126.. Valid loss: 1.075.. Valid accuracy: 0.613\n",
      "found a better model, saving...\n",
      "Epoch 008/100.. Train loss: 1.100.. Valid loss: 1.060.. Valid accuracy: 0.618\n",
      "found a better model, saving...\n",
      "Epoch 009/100.. Train loss: 1.091.. Valid loss: 1.030.. Valid accuracy: 0.638\n",
      "found a better model, saving...\n",
      "Epoch 010/100.. Train loss: 1.068.. Valid loss: 1.035.. Valid accuracy: 0.635\n",
      "Epoch 011/100.. Train loss: 1.067.. Valid loss: 1.046.. Valid accuracy: 0.634\n",
      "Epoch 012/100.. Train loss: 1.052.. Valid loss: 1.018.. Valid accuracy: 0.646\n",
      "found a better model, saving...\n",
      "Epoch 013/100.. Train loss: 1.046.. Valid loss: 1.033.. Valid accuracy: 0.641\n",
      "Epoch 014/100.. Train loss: 1.039.. Valid loss: 1.075.. Valid accuracy: 0.630\n",
      "Epoch 015/100.. Train loss: 1.032.. Valid loss: 1.001.. Valid accuracy: 0.648\n",
      "found a better model, saving...\n",
      "Epoch 016/100.. Train loss: 1.025.. Valid loss: 0.994.. Valid accuracy: 0.652\n",
      "found a better model, saving...\n",
      "Epoch 017/100.. Train loss: 1.015.. Valid loss: 1.010.. Valid accuracy: 0.656\n",
      "Epoch 018/100.. Train loss: 1.013.. Valid loss: 0.999.. Valid accuracy: 0.653\n",
      "Epoch 019/100.. Train loss: 1.002.. Valid loss: 1.007.. Valid accuracy: 0.652\n",
      "Epoch 020/100.. Train loss: 1.007.. Valid loss: 0.983.. Valid accuracy: 0.662\n",
      "found a better model, saving...\n",
      "Epoch 021/100.. Train loss: 1.000.. Valid loss: 0.977.. Valid accuracy: 0.664\n",
      "found a better model, saving...\n",
      "Epoch 022/100.. Train loss: 1.000.. Valid loss: 0.964.. Valid accuracy: 0.669\n",
      "found a better model, saving...\n",
      "Epoch 023/100.. Train loss: 0.985.. Valid loss: 0.989.. Valid accuracy: 0.655\n",
      "Epoch 024/100.. Train loss: 0.985.. Valid loss: 0.953.. Valid accuracy: 0.671\n",
      "found a better model, saving...\n",
      "Epoch 025/100.. Train loss: 0.984.. Valid loss: 0.948.. Valid accuracy: 0.667\n",
      "found a better model, saving...\n",
      "Epoch 026/100.. Train loss: 0.977.. Valid loss: 0.954.. Valid accuracy: 0.667\n",
      "Epoch 027/100.. Train loss: 0.972.. Valid loss: 1.013.. Valid accuracy: 0.654\n",
      "Epoch 028/100.. Train loss: 0.972.. Valid loss: 0.964.. Valid accuracy: 0.669\n",
      "Epoch 029/100.. Train loss: 0.969.. Valid loss: 0.941.. Valid accuracy: 0.680\n",
      "found a better model, saving...\n",
      "Epoch 030/100.. Train loss: 0.966.. Valid loss: 0.973.. Valid accuracy: 0.660\n",
      "Epoch 031/100.. Train loss: 0.971.. Valid loss: 0.964.. Valid accuracy: 0.666\n",
      "Epoch 032/100.. Train loss: 0.968.. Valid loss: 0.911.. Valid accuracy: 0.682\n",
      "found a better model, saving...\n",
      "Epoch 033/100.. Train loss: 0.960.. Valid loss: 0.948.. Valid accuracy: 0.671\n",
      "Epoch 034/100.. Train loss: 0.951.. Valid loss: 1.010.. Valid accuracy: 0.661\n",
      "Epoch 035/100.. Train loss: 0.952.. Valid loss: 0.918.. Valid accuracy: 0.683\n",
      "Epoch 036/100.. Train loss: 0.954.. Valid loss: 0.935.. Valid accuracy: 0.688\n",
      "Epoch 037/100.. Train loss: 0.941.. Valid loss: 0.939.. Valid accuracy: 0.679\n",
      "Epoch 038/100.. Train loss: 0.948.. Valid loss: 0.951.. Valid accuracy: 0.675\n",
      "Epoch 039/100.. Train loss: 0.952.. Valid loss: 0.942.. Valid accuracy: 0.685\n",
      "Epoch 040/100.. Train loss: 0.946.. Valid loss: 0.895.. Valid accuracy: 0.699\n",
      "found a better model, saving...\n",
      "Epoch 041/100.. Train loss: 0.943.. Valid loss: 0.931.. Valid accuracy: 0.681\n",
      "Epoch 042/100.. Train loss: 0.938.. Valid loss: 0.923.. Valid accuracy: 0.685\n",
      "Epoch 043/100.. Train loss: 0.938.. Valid loss: 0.901.. Valid accuracy: 0.693\n",
      "Epoch 044/100.. Train loss: 0.937.. Valid loss: 0.940.. Valid accuracy: 0.683\n",
      "Epoch 045/100.. Train loss: 0.930.. Valid loss: 0.930.. Valid accuracy: 0.683\n",
      "Epoch 046/100.. Train loss: 0.928.. Valid loss: 0.905.. Valid accuracy: 0.691\n",
      "Epoch 047/100.. Train loss: 0.931.. Valid loss: 0.904.. Valid accuracy: 0.687\n",
      "Epoch 048/100.. Train loss: 0.923.. Valid loss: 0.954.. Valid accuracy: 0.679\n",
      "Epoch 049/100.. Train loss: 0.927.. Valid loss: 0.929.. Valid accuracy: 0.687\n",
      "Epoch 050/100.. Train loss: 0.929.. Valid loss: 0.902.. Valid accuracy: 0.693\n",
      "Epoch 051/100.. Train loss: 0.924.. Valid loss: 0.948.. Valid accuracy: 0.685\n",
      "Epoch 052/100.. Train loss: 0.933.. Valid loss: 0.939.. Valid accuracy: 0.681\n",
      "Epoch 053/100.. Train loss: 0.914.. Valid loss: 0.925.. Valid accuracy: 0.694\n",
      "Epoch 054/100.. Train loss: 0.927.. Valid loss: 0.920.. Valid accuracy: 0.686\n",
      "Epoch 055/100.. Train loss: 0.921.. Valid loss: 0.915.. Valid accuracy: 0.693\n",
      "Epoch 056/100.. Train loss: 0.929.. Valid loss: 0.912.. Valid accuracy: 0.696\n",
      "Epoch 057/100.. Train loss: 0.916.. Valid loss: 0.950.. Valid accuracy: 0.678\n",
      "Epoch 058/100.. Train loss: 0.919.. Valid loss: 0.982.. Valid accuracy: 0.676\n",
      "Epoch 059/100.. Train loss: 0.912.. Valid loss: 0.939.. Valid accuracy: 0.692\n",
      "Epoch 060/100.. Train loss: 0.922.. Valid loss: 0.932.. Valid accuracy: 0.674\n",
      "Epoch 061/100.. Train loss: 0.924.. Valid loss: 0.941.. Valid accuracy: 0.676\n",
      "Epoch 062/100.. Train loss: 0.915.. Valid loss: 0.897.. Valid accuracy: 0.694\n",
      "Epoch 063/100.. Train loss: 0.906.. Valid loss: 0.917.. Valid accuracy: 0.684\n",
      "Epoch 064/100.. Train loss: 0.906.. Valid loss: 0.905.. Valid accuracy: 0.694\n",
      "Epoch 065/100.. Train loss: 0.919.. Valid loss: 0.886.. Valid accuracy: 0.692\n",
      "found a better model, saving...\n",
      "Epoch 066/100.. Train loss: 0.907.. Valid loss: 0.905.. Valid accuracy: 0.689\n",
      "Epoch 067/100.. Train loss: 0.909.. Valid loss: 0.892.. Valid accuracy: 0.702\n",
      "Epoch 068/100.. Train loss: 0.907.. Valid loss: 0.945.. Valid accuracy: 0.684\n",
      "Epoch 069/100.. Train loss: 0.910.. Valid loss: 0.904.. Valid accuracy: 0.688\n",
      "Epoch 070/100.. Train loss: 0.910.. Valid loss: 0.928.. Valid accuracy: 0.690\n",
      "Epoch 071/100.. Train loss: 0.913.. Valid loss: 0.901.. Valid accuracy: 0.690\n",
      "Epoch 072/100.. Train loss: 0.911.. Valid loss: 0.897.. Valid accuracy: 0.693\n",
      "Epoch 073/100.. Train loss: 0.901.. Valid loss: 0.898.. Valid accuracy: 0.698\n",
      "Epoch 074/100.. Train loss: 0.908.. Valid loss: 0.886.. Valid accuracy: 0.706\n",
      "found a better model, saving...\n",
      "Epoch 075/100.. Train loss: 0.908.. Valid loss: 0.885.. Valid accuracy: 0.702\n",
      "found a better model, saving...\n",
      "Epoch 076/100.. Train loss: 0.904.. Valid loss: 0.859.. Valid accuracy: 0.707\n",
      "found a better model, saving...\n",
      "Epoch 077/100.. Train loss: 0.896.. Valid loss: 0.879.. Valid accuracy: 0.706\n",
      "Epoch 078/100.. Train loss: 0.902.. Valid loss: 0.879.. Valid accuracy: 0.699\n",
      "Epoch 079/100.. Train loss: 0.910.. Valid loss: 0.918.. Valid accuracy: 0.687\n",
      "Epoch 080/100.. Train loss: 0.914.. Valid loss: 0.911.. Valid accuracy: 0.692\n",
      "Epoch 081/100.. Train loss: 0.907.. Valid loss: 0.910.. Valid accuracy: 0.699\n",
      "Epoch 082/100.. Train loss: 0.895.. Valid loss: 0.891.. Valid accuracy: 0.699\n",
      "Epoch 083/100.. Train loss: 0.899.. Valid loss: 0.980.. Valid accuracy: 0.673\n",
      "Epoch 084/100.. Train loss: 0.910.. Valid loss: 0.909.. Valid accuracy: 0.694\n",
      "Epoch 085/100.. Train loss: 0.910.. Valid loss: 0.888.. Valid accuracy: 0.700\n",
      "Epoch 086/100.. Train loss: 0.906.. Valid loss: 0.880.. Valid accuracy: 0.706\n",
      "Epoch 087/100.. Train loss: 0.903.. Valid loss: 0.909.. Valid accuracy: 0.694\n",
      "Epoch 088/100.. Train loss: 0.909.. Valid loss: 0.876.. Valid accuracy: 0.710\n",
      "Epoch 089/100.. Train loss: 0.905.. Valid loss: 0.921.. Valid accuracy: 0.696\n",
      "Epoch 090/100.. Train loss: 0.910.. Valid loss: 0.926.. Valid accuracy: 0.684\n",
      "Epoch 091/100.. Train loss: 0.910.. Valid loss: 0.926.. Valid accuracy: 0.696\n",
      "Epoch 092/100.. Train loss: 0.900.. Valid loss: 0.862.. Valid accuracy: 0.704\n",
      "Epoch 093/100.. Train loss: 0.904.. Valid loss: 0.898.. Valid accuracy: 0.705\n",
      "Epoch 094/100.. Train loss: 0.905.. Valid loss: 0.869.. Valid accuracy: 0.705\n",
      "Epoch 095/100.. Train loss: 0.909.. Valid loss: 0.914.. Valid accuracy: 0.699\n",
      "Epoch 096/100.. Train loss: 0.898.. Valid loss: 0.976.. Valid accuracy: 0.697\n"
     ]
    },
    {
     "name": "stdout",
     "output_type": "stream",
     "text": [
      "Epoch 097/100.. Train loss: 0.906.. Valid loss: 0.888.. Valid accuracy: 0.694\n",
      "Epoch 098/100.. Train loss: 0.910.. Valid loss: 0.886.. Valid accuracy: 0.705\n",
      "Epoch 099/100.. Train loss: 0.929.. Valid loss: 0.898.. Valid accuracy: 0.696\n",
      "Epoch 100/100.. Train loss: 0.913.. Valid loss: 0.947.. Valid accuracy: 0.682\n"
     ]
    }
   ],
   "source": [
    "device = torch.device(\"cuda\" if torch.cuda.is_available() else \"cpu\")\n",
    "model.to(device);\n",
    "print(f'training on device {device}')\n",
    "\n",
    "epochs = 100\n",
    "min_valid_loss = np.Inf # track change in validation loss\n",
    "train_log = {\n",
    "    \"train_losses\" : list(),\n",
    "    \"valid_losses\" : list(),\n",
    "    \"valid_accuracy\" : list()\n",
    "}\n",
    "for epoch in range(epochs):\n",
    "    #######################\n",
    "    # Training            #\n",
    "    #######################\n",
    "    train_loss = 0\n",
    "    for inputs, labels in trainloader:\n",
    "        # Move input and label tensors to the default device\n",
    "        inputs, labels = inputs.to(device), labels.to(device)\n",
    "        \n",
    "        logps = model.forward(inputs)\n",
    "        loss = criterion(logps, labels)\n",
    "        \n",
    "        optimizer.zero_grad()\n",
    "        loss.backward()\n",
    "        optimizer.step()\n",
    "\n",
    "        train_loss += loss.item()\n",
    "\n",
    "    #######################\n",
    "    # Validation          #\n",
    "    #######################\n",
    "    valid_loss = 0\n",
    "    accuracy = 0\n",
    "    model.eval()\n",
    "    with torch.no_grad():\n",
    "        for inputs, labels in validloader:\n",
    "            inputs, labels = inputs.to(device), labels.to(device)\n",
    "            logps = model.forward(inputs)\n",
    "            batch_loss = criterion(logps, labels)\n",
    "\n",
    "            valid_loss += batch_loss.item()\n",
    "\n",
    "            # Calculate accuracy\n",
    "            ps = torch.exp(logps)\n",
    "            top_p, top_class = ps.topk(1, dim=1)\n",
    "            equals = top_class == labels.view(*top_class.shape)\n",
    "            accuracy += torch.mean(equals.type(torch.FloatTensor)).item()\n",
    "    model.train()\n",
    "\n",
    "    #######################\n",
    "    # Logging             #\n",
    "    #######################\n",
    "    avg_train_loss = train_loss/len(trainloader)\n",
    "    avg_valid_loss = valid_loss/len(validloader)\n",
    "    avg_valid_acc = accuracy/len(validloader)\n",
    "    train_log[\"train_losses\"].append(avg_train_loss)\n",
    "    train_log[\"valid_losses\"].append(avg_valid_loss)\n",
    "    train_log[\"valid_accuracy\"].append(avg_valid_acc)\n",
    "    print(f\"Epoch {epoch+1:03d}/{epochs:03d}.. \"\n",
    "          f\"Train loss: {avg_train_loss:.3f}.. \"\n",
    "          f\"Valid loss: {avg_valid_loss:.3f}.. \"\n",
    "          f\"Valid accuracy: {avg_valid_acc:.3f}\")\n",
    "        \n",
    "    #######################\n",
    "    # Saving best model   #\n",
    "    #######################\n",
    "    if avg_valid_loss < min_valid_loss:\n",
    "        print(f\"found a better model, saving...\")\n",
    "        torch.save(model.state_dict(), 'model.pth')\n",
    "        min_valid_loss = avg_valid_loss\n",
    "    "
   ]
  },
  {
   "cell_type": "markdown",
   "metadata": {},
   "source": [
    "Plot the training loss (and validation loss/accuracy, if recorded)."
   ]
  },
  {
   "cell_type": "code",
   "execution_count": 124,
   "metadata": {},
   "outputs": [
    {
     "data": {
      "text/plain": [
       "<matplotlib.legend.Legend at 0x7fd904fab760>"
      ]
     },
     "execution_count": 124,
     "metadata": {},
     "output_type": "execute_result"
    },
    {
     "data": {
      "image/png": "[encoded data removed]",
      "text/plain": [
       "<Figure size 432x288 with 1 Axes>"
      ]
     },
     "metadata": {
      "image/png": {
       "height": 248,
       "width": 372
      },
      "needs_background": "light"
     },
     "output_type": "display_data"
    }
   ],
   "source": [
    "%matplotlib inline\n",
    "%config InlineBackend.figure_format = 'retina'\n",
    "\n",
    "import matplotlib.pyplot as plt\n",
    "plt.plot(train_log[\"train_losses\"], label='Training loss')\n",
    "plt.plot(train_log[\"valid_losses\"], label='Validation loss')\n",
    "plt.legend(frameon=False)"
   ]
  },
  {
   "cell_type": "markdown",
   "metadata": {},
   "source": [
    "## Testing your model\n",
    "Using the previously created `DataLoader` for the test set, compute the percentage of correct predictions using the highest probability prediction. \n",
    "\n",
    "If your accuracy is over 70%, great work! \n",
    "This is a hard task to exceed 70% on.\n",
    "\n",
    "If your accuracy is under 45%, you'll need to make improvements.\n",
    "Go back and check your model architecture, loss function, and optimizer to make sure they're appropriate for an image classification task."
   ]
  },
  {
   "cell_type": "code",
   "execution_count": 126,
   "metadata": {},
   "outputs": [
    {
     "name": "stdout",
     "output_type": "stream",
     "text": [
      "Test accuracy: 0.729\n"
     ]
    }
   ],
   "source": [
    "# load the best model \n",
    "state_dict = torch.load('model.pth')\n",
    "best_model = Net()\n",
    "best_model.load_state_dict(state_dict)\n",
    "best_model.to(device)\n",
    "\n",
    "test_accuracy = 0\n",
    "\n",
    "best_model.eval()\n",
    "with torch.no_grad():\n",
    "    for inputs, labels in testloader:\n",
    "        inputs, labels = inputs.to(device), labels.to(device)\n",
    "        logps = best_model.forward(inputs)\n",
    "        \n",
    "        # Calculate accuracy\n",
    "        ps = torch.exp(logps)\n",
    "        top_p, top_class = ps.topk(1, dim=1)\n",
    "        equals = top_class == labels.view(*top_class.shape)\n",
    "        test_accuracy += torch.mean(equals.type(torch.FloatTensor)).item()\n",
    "    \n",
    "    print(f\"Test accuracy: {test_accuracy/len(testloader):.3f}\")\n"
   ]
  },
  {
   "cell_type": "markdown",
   "metadata": {},
   "source": [
    "## Saving your model\n",
    "Using `torch.save`, save your model for future loading."
   ]
  },
  {
   "cell_type": "code",
   "execution_count": 127,
   "metadata": {},
   "outputs": [],
   "source": [
    "# see above"
   ]
  },
  {
   "cell_type": "markdown",
   "metadata": {},
   "source": [
    "## Make a Recommendation\n",
    "\n",
    "Based on your evaluation, what is your recommendation on whether to build or buy? Explain your reasoning below."
   ]
  },
  {
   "cell_type": "markdown",
   "metadata": {},
   "source": [
    "I recommend to take the custom model developed in this notebook.\n",
    "Resons: Currently the models perform similar (regarding accuracy). So it would be cheaper to take our model instead of purchasing a new one. In addition we have full control over further development of the model and we can tune it best for our needs. In case Detectocorp’s model will evolve faster and gets a lot better than our custom model, we can then still decide to switch to that model. \n"
   ]
  }
 ],
 "metadata": {
  "kernelspec": {
   "display_name": "Python 3",
   "language": "python",
   "name": "python3"
  },
  "language_info": {
   "codemirror_mode": {
    "name": "ipython",
    "version": 3
   },
   "file_extension": ".py",
   "mimetype": "text/x-python",
   "name": "python",
   "nbconvert_exporter": "python",
   "pygments_lexer": "ipython3",
   "version": "3.8.8"
  }
 },
 "nbformat": 4,
 "nbformat_minor": 4
}
